{
 "cells": [
  {
   "cell_type": "markdown",
   "id": "39f5709c-2055-4604-8ec8-dc0d8d678cd2",
   "metadata": {},
   "source": [
    "# **Práctica 1**\n",
    "\n",
    "\n",
    "Prueba de texto para la primera práctica"
   ]
  },
  {
   "cell_type": "code",
   "execution_count": null,
   "id": "d5a0a3a8-0733-430e-85c6-5b3fa6125938",
   "metadata": {},
   "outputs": [],
   "source": []
  }
 ],
 "metadata": {
  "kernelspec": {
   "display_name": "Python 3 (ipykernel)",
   "language": "python",
   "name": "python3"
  },
  "language_info": {
   "codemirror_mode": {
    "name": "ipython",
    "version": 3
   },
   "file_extension": ".py",
   "mimetype": "text/x-python",
   "name": "python",
   "nbconvert_exporter": "python",
   "pygments_lexer": "ipython3",
   "version": "3.11.4"
  }
 },
 "nbformat": 4,
 "nbformat_minor": 5
}
