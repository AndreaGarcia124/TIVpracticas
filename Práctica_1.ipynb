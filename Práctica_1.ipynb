{
 "cells": [
  {
   "cell_type": "markdown",
   "id": "39f5709c-2055-4604-8ec8-dc0d8d678cd2",
   "metadata": {},
   "source": [
    "# **Práctica 1**\n",
    "\n",
    "vamos a trabajar\n",
    "con las siguiente:\n",
    "- Mamografía: breastXray\n",
    "- Estudio esquelético: skeleton.tif\n",
    "- Imagen aérea (ciudad): washed_aerial\n",
    "- Imagen microscópica (polen): washed_pollen.tif\n",
    "- Imagen del perro Boston: Boston.jpg\n",
    "\n",
    "Para cada una de las imágenes se pide lo siguiente:\n",
    "1) Leerlas y visualizarlas\n",
    "2) Hacer un análisis estadístico de las mismas considerando, al menos, lo siguiente:\n",
    "    \n",
    "    a. Principales estadísticos, tales como valores máximo, mínimo, rango, valor\n",
    "    medio, desviación típica, varianza,, coeficiente de variación, valor mediano,\n",
    "    cuartiles, rango intercuartil, rango medio intercuartil.\n",
    "    \n",
    "    b. Histograma y función de distribución cumulativa\n",
    "    \n",
    "    c. Diagrama de dispersión (caja bigote)\n",
    "    \n",
    "    d. Hay que describir razonadamente los resultados estadísticos a la vista de\n",
    "    las imágenes\n",
    "    \n",
    "    e. Para la imagen en color, el análisis hay que hacerlo para los canales (R, G, B)\n",
    "    y (H,S,V)\n",
    "3) Mejorar la exposición (brillo y contraste) de cada imagen en niveles de grises para\n",
    "    obtener una “buena” impresión visual. En cada caso hay que indicar qué se\n",
    "    pretende y cómo se consigue\n",
    "4) Para las imágenes médicas, se recomienda utilizar también el negativo.\n",
    "5) Para la imagen en color, las transformaciones deben aplicarse solo sobre el canal\n",
    "    de luminancia\n",
    "6) Generar máscaras que permitan extraer zonas de interés de cada de las imágenes\n",
    "7) Desaturar zonas de la imagen en color para realzar otras utilizando máscaras"
   ]
  },
  {
   "cell_type": "code",
   "execution_count": 1,
   "id": "d5a0a3a8-0733-430e-85c6-5b3fa6125938",
   "metadata": {
    "tags": []
   },
   "outputs": [
    {
     "name": "stdout",
     "output_type": "stream",
     "text": [
      "<class 'module'>\n"
     ]
    }
   ],
   "source": [
    "from PIL import Image\n",
    "\n",
    "print(type(Image)) # Objeto de clase module"
   ]
  },
  {
   "cell_type": "code",
   "execution_count": 2,
   "id": "f3555ec6-c0b0-4ceb-9fe4-61f35a2dc5a7",
   "metadata": {
    "tags": []
   },
   "outputs": [
    {
     "name": "stdout",
     "output_type": "stream",
     "text": [
      "<class 'str'>\n",
      "2108111562752\n"
     ]
    },
    {
     "ename": "FileNotFoundError",
     "evalue": "[Errno 2] No such file or directory: './ULPGC-TIV/imágenes/chinche_L.png'",
     "output_type": "error",
     "traceback": [
      "\u001b[1;31m---------------------------------------------------------------------------\u001b[0m",
      "\u001b[1;31mFileNotFoundError\u001b[0m                         Traceback (most recent call last)",
      "Cell \u001b[1;32mIn[2], line 5\u001b[0m\n\u001b[0;32m      2\u001b[0m \u001b[38;5;28mprint\u001b[39m(\u001b[38;5;28mtype\u001b[39m(file))\n\u001b[0;32m      3\u001b[0m \u001b[38;5;28mprint\u001b[39m(\u001b[38;5;28mid\u001b[39m(file))\n\u001b[1;32m----> 5\u001b[0m img  \u001b[38;5;241m=\u001b[39m Image\u001b[38;5;241m.\u001b[39mopen(file)\n\u001b[0;32m      6\u001b[0m \u001b[38;5;28mprint\u001b[39m(\u001b[38;5;28mtype\u001b[39m(img))\n\u001b[0;32m      7\u001b[0m \u001b[38;5;28mprint\u001b[39m(\u001b[38;5;28mid\u001b[39m(img))\n",
      "File \u001b[1;32m~\\anaconda3\\Lib\\site-packages\\PIL\\Image.py:3227\u001b[0m, in \u001b[0;36mopen\u001b[1;34m(fp, mode, formats)\u001b[0m\n\u001b[0;32m   3224\u001b[0m     filename \u001b[38;5;241m=\u001b[39m fp\n\u001b[0;32m   3226\u001b[0m \u001b[38;5;28;01mif\u001b[39;00m filename:\n\u001b[1;32m-> 3227\u001b[0m     fp \u001b[38;5;241m=\u001b[39m builtins\u001b[38;5;241m.\u001b[39mopen(filename, \u001b[38;5;124m\"\u001b[39m\u001b[38;5;124mrb\u001b[39m\u001b[38;5;124m\"\u001b[39m)\n\u001b[0;32m   3228\u001b[0m     exclusive_fp \u001b[38;5;241m=\u001b[39m \u001b[38;5;28;01mTrue\u001b[39;00m\n\u001b[0;32m   3230\u001b[0m \u001b[38;5;28;01mtry\u001b[39;00m:\n",
      "\u001b[1;31mFileNotFoundError\u001b[0m: [Errno 2] No such file or directory: './ULPGC-TIV/imágenes/chinche_L.png'"
     ]
    }
   ],
   "source": [
    "file = './ULPGC-TIV/imágenes/chinche_L.png'\n",
    "print(type(file))\n",
    "print(id(file))\n",
    "\n",
    "img  = Image.open(file)\n",
    "print(type(img))\n",
    "print(id(img))"
   ]
  },
  {
   "cell_type": "code",
   "execution_count": null,
   "id": "f72171b2-37a8-4358-82a9-02f3c60f7dae",
   "metadata": {},
   "outputs": [],
   "source": []
  }
 ],
 "metadata": {
  "kernelspec": {
   "display_name": "Python 3 (ipykernel)",
   "language": "python",
   "name": "python3"
  },
  "language_info": {
   "codemirror_mode": {
    "name": "ipython",
    "version": 3
   },
   "file_extension": ".py",
   "mimetype": "text/x-python",
   "name": "python",
   "nbconvert_exporter": "python",
   "pygments_lexer": "ipython3",
   "version": "3.11.4"
  },
  "toc-autonumbering": false,
  "toc-showcode": true,
  "toc-showmarkdowntxt": true
 },
 "nbformat": 4,
 "nbformat_minor": 5
}
